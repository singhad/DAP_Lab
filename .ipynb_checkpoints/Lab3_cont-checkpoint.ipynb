{
 "cells": [
  {
   "cell_type": "markdown",
   "metadata": {},
   "source": [
    "# Functions:"
   ]
  },
  {
   "cell_type": "markdown",
   "metadata": {},
   "source": [
    "## QUESTION 1\n",
    "\n",
    "Write a Python function to multiply all the numbers in a list.\n",
    "For example, a sample List could be [8, 2, 3, -1, 7, 0.5]"
   ]
  },
  {
   "cell_type": "code",
   "execution_count": 24,
   "metadata": {},
   "outputs": [
    {
     "name": "stdout",
     "output_type": "stream",
     "text": [
      "-168.0\n"
     ]
    }
   ],
   "source": [
    "def mulitply(sList):\n",
    "    result = 1.0\n",
    "    for i in range(len(sampleList)):\n",
    "        result *= sampleList[i]\n",
    "    return result\n",
    "\n",
    "sampleList = [8, 2, 3, -1, 7, 0.5]\n",
    "print(mulitply(sampleList))"
   ]
  },
  {
   "cell_type": "code",
   "execution_count": 13,
   "metadata": {},
   "outputs": [
    {
     "data": {
      "text/plain": [
       "-168.0"
      ]
     },
     "execution_count": 13,
     "metadata": {},
     "output_type": "execute_result"
    }
   ],
   "source": [
    "8*2*3*-1*7*0.5"
   ]
  },
  {
   "cell_type": "markdown",
   "metadata": {},
   "source": [
    "## QUESTION 2\n",
    "\n",
    "Write a Python program to reverse a string.\n",
    "Sample String : \"12345$abcde\""
   ]
  },
  {
   "cell_type": "code",
   "execution_count": 46,
   "metadata": {},
   "outputs": [
    {
     "name": "stdout",
     "output_type": "stream",
     "text": [
      "12345$abcde\n",
      "edcba$54321 \n",
      "edcba$54321\n"
     ]
    }
   ],
   "source": [
    "def reverse_string1(sString):\n",
    "    rString = \" \"\n",
    "    for j in sString:\n",
    "        rString = j + rString\n",
    "    return rString\n",
    "\n",
    "def reverse_string2(sString):\n",
    "    rString = sString[::-1]\n",
    "    return rString\n",
    "\n",
    "sampleString = \"12345$abcde\"\n",
    "print(sampleString)\n",
    "print(reverse_string1(sampleString))\n",
    "print(reverse_string2(sampleString))"
   ]
  },
  {
   "cell_type": "markdown",
   "metadata": {},
   "source": [
    "## QUESTION 3\n",
    "\n",
    "Write a Python function that takes a list and returns a new list with unique elements\n",
    "of the first list.\n",
    "\n",
    "Sample list: [1,2,3,3,3,3,4, 5, 7, 2, -1]"
   ]
  },
  {
   "cell_type": "code",
   "execution_count": 56,
   "metadata": {},
   "outputs": [
    {
     "name": "stdout",
     "output_type": "stream",
     "text": [
      "[1, 2, 3, 3, 3, 3, 4, 5, 7, 2, -1]\n",
      "[1, 2, 3, 4, 5, 7, -1]\n"
     ]
    }
   ],
   "source": [
    "def unique_list(nList):\n",
    "    uList = []\n",
    "    for i in nList:\n",
    "        if(i not in uList):\n",
    "            uList.append(i)\n",
    "    return uList\n",
    "\n",
    "numList = [1, 2, 3, 3, 3, 3, 4, 5, 7, 2, -1]\n",
    "print(numList)\n",
    "print(unique_list(numList))"
   ]
  },
  {
   "cell_type": "markdown",
   "metadata": {},
   "source": [
    "# * * * * * * * * * * * * * * * * * * * * * * * * * * * * * * * * * * * * * * * * * * * * * * * * * * * * "
   ]
  },
  {
   "cell_type": "markdown",
   "metadata": {},
   "source": [
    "# Lambdas, map, reduce, filter"
   ]
  },
  {
   "cell_type": "markdown",
   "metadata": {},
   "source": [
    "## QUESTION 4 \n",
    "\n",
    "Write a Python program to create a function that takes one argument, and that\n",
    "argument will be multiplied with an unknown given number."
   ]
  },
  {
   "cell_type": "code",
   "execution_count": 59,
   "metadata": {},
   "outputs": [
    {
     "name": "stdin",
     "output_type": "stream",
     "text": [
      "Enter any number:  15\n"
     ]
    },
    {
     "name": "stdout",
     "output_type": "stream",
     "text": [
      "\n",
      "Multiplied result is: \n",
      "150.0\n"
     ]
    }
   ],
   "source": [
    "def unknown_multiply(g_no, u_no = 10.0):\n",
    "    return g_no*u_no\n",
    "\n",
    "given_no = int(input(\"Enter any number: \"))\n",
    "print(\"\\nMultiplied result is: \")\n",
    "print(unknown_multiply(given_no))"
   ]
  },
  {
   "cell_type": "markdown",
   "metadata": {},
   "source": [
    "## QUESTION 5\n",
    "\n",
    "Write a Python program to find if a given string starts with a given character using\n",
    "Lambda"
   ]
  },
  {
   "cell_type": "code",
   "execution_count": 88,
   "metadata": {},
   "outputs": [
    {
     "name": "stdout",
     "output_type": "stream",
     "text": [
      "True\n",
      "False\n",
      "False\n"
     ]
    }
   ],
   "source": [
    "yoyo = lambda ek_string: ek_string[0].isalpha()\n",
    "\n",
    "string1 = \"Aman\"\n",
    "string2 = \"1Aman\"\n",
    "string3 = \"$Aman\"\n",
    "\n",
    "print(yoyo(string1))\n",
    "print(yoyo(string2))\n",
    "print(yoyo(string3))"
   ]
  },
  {
   "cell_type": "markdown",
   "metadata": {},
   "source": [
    "## QUESTION 6\n",
    "\n",
    "Write a Python program to filter a list of integers if they are positive or negative\n",
    "using Lambdas."
   ]
  },
  {
   "cell_type": "code",
   "execution_count": 27,
   "metadata": {},
   "outputs": [
    {
     "name": "stdout",
     "output_type": "stream",
     "text": [
      "Original list:  [-5, -4, -3, -2, -1, 0, 1, 2, 3, 4, 5]\n",
      "Positive numbers in the list :  [0, 1, 2, 3, 4, 5]\n",
      "Negative numbers in the list :  [-5, -4, -3, -2, -1]\n"
     ]
    }
   ],
   "source": [
    "# Filter list of numbers by keeping selective numbers only\n",
    "listofNum = list(range(-5, 6))\n",
    "listofposNum = list(filter(lambda x : x >= 0, listofNum))\n",
    "listofnegNum = list(filter(lambda x : x < 0, listofNum))\n",
    "print('Original list: ', listofNum)\n",
    "print('Positive numbers in the list : ', listofposNum)\n",
    "print('Negative numbers in the list : ', listofnegNum)"
   ]
  },
  {
   "cell_type": "code",
   "execution_count": null,
   "metadata": {},
   "outputs": [],
   "source": []
  },
  {
   "cell_type": "markdown",
   "metadata": {},
   "source": [
    "## QUESTION 7\n",
    "\n",
    "Write a Python program to cube every number in a given list of integers using\n",
    "Lambda.\n",
    "> For example, nums = [1, 2, 3, 4, 5, 6, 7, 8, 9, 10]"
   ]
  },
  {
   "cell_type": "code",
   "execution_count": 62,
   "metadata": {},
   "outputs": [
    {
     "name": "stdout",
     "output_type": "stream",
     "text": [
      "[ 0  1  2  3  4  5  6  7  8  9 10]\n",
      "[   0    1    8   27   64  125  216  343  512  729 1000]\n",
      "<class 'numpy.ndarray'>\n",
      "<class 'numpy.ndarray'>\n"
     ]
    }
   ],
   "source": [
    "# Since lists don't support complex mathematical operations (like sqauring, cubing, etc.), \n",
    "# here I have used a numpy array to do the same thing\n",
    "\n",
    "import numpy as np\n",
    "\n",
    "cube = lambda cube_array: nums**3\n",
    "\n",
    "nums = np.array(range(0, 11))\n",
    "print(nums)\n",
    "print(cube(nums))\n",
    "print(type(nums))\n",
    "print(type(cube(nums)))"
   ]
  },
  {
   "cell_type": "code",
   "execution_count": 68,
   "metadata": {},
   "outputs": [
    {
     "name": "stdout",
     "output_type": "stream",
     "text": [
      "[0, 1, 2, 3, 4, 5, 6, 7, 8, 9, 10]\n",
      "[0, 1, 8, 27, 64, 125, 216, 343, 512, 729, 1000]\n",
      "<class 'list'>\n",
      "<class 'list'>\n"
     ]
    }
   ],
   "source": [
    "# UPDATE:\n",
    "# Here I have used the inbuilt map funtion in python to cube the elements in the list\n",
    "\n",
    "def cubed(list):\n",
    "    return map(lambda x: x ** 3, list)\n",
    "\n",
    "list_1 = list(range(0, 11))\n",
    "cubed_list = list(cubed(list_1))\n",
    "print(list_1)\n",
    "print(cubed_list)\n",
    "print(type(list_1))\n",
    "print(type(cubed_list))"
   ]
  },
  {
   "cell_type": "code",
   "execution_count": 69,
   "metadata": {},
   "outputs": [
    {
     "name": "stdout",
     "output_type": "stream",
     "text": [
      "[0, 1, 8, 27, 64, 125, 216, 343, 512, 729, 1000]\n",
      "<class 'list'>\n"
     ]
    }
   ],
   "source": [
    "# Without using funtions, the one line implementation of the above block would be:\n",
    "\n",
    "print(list(map(lambda y: y**3, list_1)))\n",
    "print(type(list(map(lambda y: y**3, list_1))))"
   ]
  },
  {
   "cell_type": "code",
   "execution_count": null,
   "metadata": {},
   "outputs": [],
   "source": []
  },
  {
   "cell_type": "markdown",
   "metadata": {},
   "source": [
    "# * * * * * * * * * * * * * * * * * * * * * * * * * * * * * * * * * * * * * * * * * * * * * * * * * * * * "
   ]
  },
  {
   "cell_type": "markdown",
   "metadata": {},
   "source": [
    "# Recursion"
   ]
  },
  {
   "cell_type": "markdown",
   "metadata": {},
   "source": [
    "## QUESTION 8\n",
    "\n",
    "Write a Python program to calculate the harmonic sum of n-1.\n",
    "> Note: The harmonic sum is defined as:\n",
    "> 1 + 1/2 + 1/3 + 1/4 + ....."
   ]
  },
  {
   "cell_type": "code",
   "execution_count": 14,
   "metadata": {},
   "outputs": [
    {
     "name": "stdin",
     "output_type": "stream",
     "text": [
      "Enter the number upto which you want to find the harmonic sum:  3\n"
     ]
    },
    {
     "name": "stdout",
     "output_type": "stream",
     "text": [
      "Harmonic sum is:  1.8333333333333333\n"
     ]
    }
   ],
   "source": [
    "def harmonic_sum(n):\n",
    "    if n==1:\n",
    "        return 1.0\n",
    "    else:\n",
    "        return (1/n) + (harmonic_sum(n-1))\n",
    "\n",
    "hno = int(input(\"Enter the number upto which you want to find the harmonic sum: \"))\n",
    "print(\"Harmonic sum is: \", harmonic_sum(hno))"
   ]
  },
  {
   "cell_type": "code",
   "execution_count": 13,
   "metadata": {},
   "outputs": [
    {
     "data": {
      "text/plain": [
       "1.8333333333333333"
      ]
     },
     "execution_count": 13,
     "metadata": {},
     "output_type": "execute_result"
    }
   ],
   "source": [
    "1 + (1/2) + (1/3)"
   ]
  },
  {
   "cell_type": "code",
   "execution_count": null,
   "metadata": {},
   "outputs": [],
   "source": []
  }
 ],
 "metadata": {
  "kernelspec": {
   "display_name": "Python 3",
   "language": "python",
   "name": "python3"
  },
  "language_info": {
   "codemirror_mode": {
    "name": "ipython",
    "version": 3
   },
   "file_extension": ".py",
   "mimetype": "text/x-python",
   "name": "python",
   "nbconvert_exporter": "python",
   "pygments_lexer": "ipython3",
   "version": "3.7.4"
  }
 },
 "nbformat": 4,
 "nbformat_minor": 4
}
