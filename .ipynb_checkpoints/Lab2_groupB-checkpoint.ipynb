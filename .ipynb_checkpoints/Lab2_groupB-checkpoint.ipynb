{
 "cells": [
  {
   "cell_type": "markdown",
   "metadata": {},
   "source": [
    "# QUESTION 1\n",
    "\n",
    "Using a lambda expression, complete the mul_by_num function. This function should take an argument and return a one argument function that multiplies any value passed to it by the original number. Its body must be one line long:\n",
    "\n",
    "    def mul_by_num(num):\n",
    "    \n",
    "> Returns a function that takes one argument and returns num times that argument.\n",
    "\n",
    "    x = mul_by_num(5)\n",
    "    y = mul_by_num(2)\n",
    "    x(3)\n",
    "        15\n",
    "    y(-4)\n",
    "        -8\n",
    "    *** YOUR CODE HERE ***\n",
    "    return ______"
   ]
  },
  {
   "cell_type": "code",
   "execution_count": 2,
   "metadata": {},
   "outputs": [
    {
     "name": "stdout",
     "output_type": "stream",
     "text": [
      "15\n",
      "-8\n"
     ]
    }
   ],
   "source": [
    "def mul_by_num(num):\n",
    "    return lambda a : a * num\n",
    "\n",
    "x = mul_by_num(5)\n",
    "y = mul_by_num(2)\n",
    "print(x(3))\n",
    "print(y(-4))"
   ]
  },
  {
   "cell_type": "markdown",
   "metadata": {},
   "source": [
    "# QUESTION 2\n",
    "The Fibonacci numbers are the numbers in the following integer sequence.\n",
    ">0, 1, 1, 2, 3, 5, 8, 13, 21, 34, 55, 89, 144, ……..\n",
    "\n",
    "In mathematical terms, the sequence Fn of Fibonacci numbers is defined by the recurrence relation:\n",
    "\n",
    "> Fn = Fn-1 + Fn-2 with seed values F0 = 0 and F1 = 1.\n",
    "\n",
    "Find the series of Fibonacci numbers using lambda function."
   ]
  },
  {
   "cell_type": "code",
   "execution_count": 3,
   "metadata": {},
   "outputs": [
    {
     "name": "stdout",
     "output_type": "stream",
     "text": [
      "[0, 1, 1, 2, 3]\n"
     ]
    }
   ],
   "source": [
    "from functools import reduce\n",
    "fib = lambda n: reduce(lambda x, _: x+[x[-1]+x[-2]], \n",
    "                                 range(n-2), [0, 1]) \n",
    "  \n",
    "print(fib(5)) "
   ]
  },
  {
   "cell_type": "code",
   "execution_count": 32,
   "metadata": {},
   "outputs": [
    {
     "data": {
      "text/plain": [
       "5"
      ]
     },
     "execution_count": 32,
     "metadata": {},
     "output_type": "execute_result"
    }
   ],
   "source": [
    "fib = lambda n: n if n < 2 else fib(n-1) + fib(n-2)\n",
    "fib(5)"
   ]
  },
  {
   "cell_type": "code",
   "execution_count": 30,
   "metadata": {},
   "outputs": [
    {
     "data": {
      "text/plain": [
       "5"
      ]
     },
     "execution_count": 30,
     "metadata": {},
     "output_type": "execute_result"
    }
   ],
   "source": [
    "import math\n",
    "def fib(nr):\n",
    "    ratio = (1 + math.sqrt(5)) / 2\n",
    "    return int(ratio ** nr / math.sqrt(5) + 0.5)\n",
    "fib(5)"
   ]
  },
  {
   "cell_type": "code",
   "execution_count": 27,
   "metadata": {},
   "outputs": [
    {
     "data": {
      "text/plain": [
       "8"
      ]
     },
     "execution_count": 27,
     "metadata": {},
     "output_type": "execute_result"
    }
   ],
   "source": [
    "fib = lambda x,y=[1,1]:([(y.append(y[-1]+y[-2]),y[-1])[1] for i in range(1+x-len(y))],y[x])[1]\n",
    "fib(5)"
   ]
  },
  {
   "cell_type": "code",
   "execution_count": 29,
   "metadata": {},
   "outputs": [
    {
     "data": {
      "text/plain": [
       "5"
      ]
     },
     "execution_count": 29,
     "metadata": {},
     "output_type": "execute_result"
    }
   ],
   "source": [
    "fib = lambda n, x=0, y=1 : x if not n else fib(n-1, y, x+y)\n",
    "fib(5)"
   ]
  },
  {
   "cell_type": "code",
   "execution_count": 33,
   "metadata": {},
   "outputs": [
    {
     "data": {
      "text/plain": [
       "[0, 1, 1, 2, 3, 5, 8, 13, 21, 34]"
      ]
     },
     "execution_count": 33,
     "metadata": {},
     "output_type": "execute_result"
    }
   ],
   "source": [
    "fib = (lambda n, fib=[0,1]: fib[:n]+[fib.append(fib[-1] + fib[-2]) or fib[-1] for i in range(n-len(fib))])\n",
    "fib(10)"
   ]
  },
  {
   "cell_type": "code",
   "execution_count": 34,
   "metadata": {},
   "outputs": [
    {
     "data": {
      "text/plain": [
       "[1, 1, 2, 3, 5]"
      ]
     },
     "execution_count": 34,
     "metadata": {},
     "output_type": "execute_result"
    }
   ],
   "source": [
    "fib = lambda x,y=[1,1]:[1]*x if (x<2) else ([y.append(y[q-1] + y[q-2]) for q in range(2,x)],y)[1]\n",
    "fib(5)"
   ]
  },
  {
   "cell_type": "code",
   "execution_count": null,
   "metadata": {},
   "outputs": [],
   "source": []
  },
  {
   "cell_type": "markdown",
   "metadata": {},
   "source": [
    "# QUESTION 3\n",
    "Create a script that check if a page is present on the server or return an error. Use the urllib seen during the lecture."
   ]
  },
  {
   "cell_type": "code",
   "execution_count": null,
   "metadata": {},
   "outputs": [],
   "source": []
  },
  {
   "cell_type": "code",
   "execution_count": null,
   "metadata": {},
   "outputs": [],
   "source": []
  },
  {
   "cell_type": "code",
   "execution_count": null,
   "metadata": {},
   "outputs": [],
   "source": []
  },
  {
   "cell_type": "markdown",
   "metadata": {},
   "source": [
    "# QUESTION 4\n",
    "Write a program to get the current weather of a city given in input. You can use the following API documentation:\n",
    "\n",
    "[https://openweathermap.org/current]\n",
    "\n",
    "> Hint: The GET request should have the following string appended at the end of the query for auth: APPID=b35975e18dc93725acb092f7272cc6b8\n",
    "\n",
    "You should retrieve for the city:\n",
    "\n",
    "    Temperature: 12.32°C\n",
    "    Wind speed: 8.7 m/s\n",
    "    Description: moderate rain\n",
    "    Weather: Rain"
   ]
  },
  {
   "cell_type": "code",
   "execution_count": 4,
   "metadata": {},
   "outputs": [
    {
     "data": {
      "text/plain": [
       "<Response [401]>"
      ]
     },
     "execution_count": 4,
     "metadata": {},
     "output_type": "execute_result"
    }
   ],
   "source": [
    "import requests\n",
    "\n",
    "requests.get(\"http://api.openweathermap.org/data/2.5/APPID=b35975e18dc93725acb092f7272cc6b8\")"
   ]
  },
  {
   "cell_type": "code",
   "execution_count": null,
   "metadata": {},
   "outputs": [],
   "source": []
  },
  {
   "cell_type": "code",
   "execution_count": null,
   "metadata": {},
   "outputs": [],
   "source": []
  },
  {
   "cell_type": "markdown",
   "metadata": {},
   "source": [
    "# QUESTION 5\n",
    "Write a program to read the xml file people.xml and output a csv file and json file with the same information.\n",
    "\n",
    "Validate the Json using [https://jsonlint.com/]\n",
    "\n",
    "Import the CSV using Excel"
   ]
  },
  {
   "cell_type": "code",
   "execution_count": 5,
   "metadata": {},
   "outputs": [],
   "source": [
    "import xml.etree.ElementTree as ET\n",
    "tree = ET.parse('people.xml')\n",
    "root = tree.getroot()"
   ]
  },
  {
   "cell_type": "code",
   "execution_count": 6,
   "metadata": {},
   "outputs": [
    {
     "name": "stdout",
     "output_type": "stream",
     "text": [
      "\n",
      "All item data:\n",
      "Sample Name\n",
      "12345642357891\n",
      "sample_name@example.com\n",
      "\n",
      "\t\t\n",
      "Sample Name1\n",
      "1234567891\n",
      "sample_name1@example.com\n",
      "\n",
      "\t\t\n",
      "Sample Name2\n",
      "1234567891\n",
      "sample_name1@example.com\n",
      "\n",
      "\t\t\n",
      "Sample Name3\n",
      "1234567891\n",
      "sample_name1@example.com\n",
      "\n",
      "\t\t\n",
      "Sample Name4\n",
      "1234567891\n",
      "sample_name1@example.com\n",
      "\n",
      "\t\t\n",
      "Sample Name5\n",
      "1234567891\n",
      "sample_name1@example.com\n",
      "\n",
      "\t\t\n",
      "Sample Name6\n",
      "1234567891\n",
      "sample_name1@example.com\n",
      "\n",
      "\t\t\n",
      "Sample Name7\n",
      "1234567891\n",
      "sample_name1@example.com\n",
      "\n",
      "\t\t\n"
     ]
    }
   ],
   "source": [
    "print('\\nAll item data:')\n",
    "for elem in root:\n",
    "    for subelem in elem:\n",
    "        print(subelem.text)"
   ]
  },
  {
   "cell_type": "code",
   "execution_count": null,
   "metadata": {},
   "outputs": [],
   "source": []
  }
 ],
 "metadata": {
  "kernelspec": {
   "display_name": "Python 3",
   "language": "python",
   "name": "python3"
  },
  "language_info": {
   "codemirror_mode": {
    "name": "ipython",
    "version": 3
   },
   "file_extension": ".py",
   "mimetype": "text/x-python",
   "name": "python",
   "nbconvert_exporter": "python",
   "pygments_lexer": "ipython3",
   "version": "3.7.4"
  }
 },
 "nbformat": 4,
 "nbformat_minor": 4
}
