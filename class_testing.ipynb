{
 "cells": [
  {
   "cell_type": "markdown",
   "metadata": {},
   "source": [
    "# On 4th Feb 2020 (Lec)"
   ]
  },
  {
   "cell_type": "markdown",
   "metadata": {},
   "source": [
    "#### Calculating the sum of the numbers from 1 to 100 with reduce"
   ]
  },
  {
   "cell_type": "code",
   "execution_count": 13,
   "metadata": {},
   "outputs": [
    {
     "data": {
      "text/plain": [
       "5050.0"
      ]
     },
     "execution_count": 13,
     "metadata": {},
     "output_type": "execute_result"
    }
   ],
   "source": [
    "from functools import reduce\n",
    "import numpy as np\n",
    "\n",
    "f = lambda a,b: a + b\n",
    "    \n",
    "reduce(f, list(np.linspace(1, 100, 100)))"
   ]
  },
  {
   "cell_type": "markdown",
   "metadata": {},
   "source": [
    "# On 7th Feb 2020 (Lab)"
   ]
  },
  {
   "cell_type": "code",
   "execution_count": null,
   "metadata": {},
   "outputs": [],
   "source": [
    "import urllib.request\n",
    "response = urllib.request.urlopen(\"http://python.org/\")\n",
    "html = response.read()\n",
    "html = str(html)# convert into a string\n",
    "print(html.split('\\n')[0]) # show just the first line"
   ]
  },
  {
   "cell_type": "code",
   "execution_count": null,
   "metadata": {},
   "outputs": [],
   "source": [
    "import urllib.request\n",
    "\n",
    "response = urllib.request.urlopen(\"http://python.org/\")\n",
    "html = response.read()\n",
    "html = str(html)# convert into a string\n",
    "print(html.split('\\n')[0]) # show just the first line"
   ]
  },
  {
   "cell_type": "code",
   "execution_count": 2,
   "metadata": {},
   "outputs": [],
   "source": [
    "request = urllib.request.Request(\"http://python.org/\")\n",
    "request.add_header(\"User-Agent\", \"My Python Crawler\")\n",
    "opener = urllib.request.build_opener()\n",
    "response = opener.open(request) # make the http request\n",
    "html = response.read()"
   ]
  },
  {
   "cell_type": "code",
   "execution_count": 3,
   "metadata": {},
   "outputs": [
    {
     "name": "stdout",
     "output_type": "stream",
     "text": [
      "URL:https://www.python.org/\n"
     ]
    }
   ],
   "source": [
    "with urllib.request.urlopen ( ' http://python.org/' ) as res:\n",
    "    print(\"URL:{}\".format(res.geturl( )))"
   ]
  },
  {
   "cell_type": "code",
   "execution_count": 4,
   "metadata": {},
   "outputs": [
    {
     "name": "stdout",
     "output_type": "stream",
     "text": [
      "Response Code:200\n"
     ]
    }
   ],
   "source": [
    "with urllib.request.urlopen ( ' http://python.org/' ) as res:\n",
    "    print(\"Response Code:{}\".format(res.code))"
   ]
  },
  {
   "cell_type": "code",
   "execution_count": 5,
   "metadata": {},
   "outputs": [
    {
     "name": "stdout",
     "output_type": "stream",
     "text": [
      "Date:Wed, 12 Feb 2020 23:32:25 GMT\n"
     ]
    }
   ],
   "source": [
    "with urllib.request.urlopen ( ' http://python.org/' ) as res:\n",
    "    print(\"Date:{}\".format(res.info()['date']))"
   ]
  },
  {
   "cell_type": "code",
   "execution_count": 6,
   "metadata": {},
   "outputs": [
    {
     "name": "stdout",
     "output_type": "stream",
     "text": [
      "Server:nginx\n"
     ]
    }
   ],
   "source": [
    "with urllib.request.urlopen ( ' http://python.org/' ) as res:\n",
    "    print(\"Server:{}\".format(res.info()['server']))"
   ]
  },
  {
   "cell_type": "code",
   "execution_count": 7,
   "metadata": {},
   "outputs": [
    {
     "name": "stdout",
     "output_type": "stream",
     "text": [
      "Headers:Server: nginx\n",
      "Content-Type: text/html; charset=utf-8\n",
      "X-Frame-Options: DENY\n",
      "Via: 1.1 vegur\n",
      "Via: 1.1 varnish\n",
      "Content-Length: 48781\n",
      "Accept-Ranges: bytes\n",
      "Date: Wed, 12 Feb 2020 23:32:26 GMT\n",
      "Via: 1.1 varnish\n",
      "Age: 3205\n",
      "Connection: close\n",
      "X-Served-By: cache-iad2140-IAD, cache-dub4340-DUB\n",
      "X-Cache: HIT, HIT\n",
      "X-Cache-Hits: 1, 15\n",
      "X-Timer: S1581550347.876472,VS0,VE0\n",
      "Vary: Cookie\n",
      "Strict-Transport-Security: max-age=63072000; includeSubDomains\n",
      "\n",
      "\n"
     ]
    }
   ],
   "source": [
    "with urllib.request.urlopen ( ' http://python.org/' ) as res:\n",
    "    print(\"Headers:{}\".format(res.info()))"
   ]
  },
  {
   "cell_type": "code",
   "execution_count": null,
   "metadata": {},
   "outputs": [],
   "source": []
  },
  {
   "cell_type": "code",
   "execution_count": null,
   "metadata": {},
   "outputs": [],
   "source": []
  },
  {
   "cell_type": "code",
   "execution_count": null,
   "metadata": {},
   "outputs": [],
   "source": []
  },
  {
   "cell_type": "code",
   "execution_count": null,
   "metadata": {},
   "outputs": [],
   "source": []
  },
  {
   "cell_type": "code",
   "execution_count": null,
   "metadata": {},
   "outputs": [],
   "source": []
  }
 ],
 "metadata": {
  "kernelspec": {
   "display_name": "Python 3",
   "language": "python",
   "name": "python3"
  },
  "language_info": {
   "codemirror_mode": {
    "name": "ipython",
    "version": 3
   },
   "file_extension": ".py",
   "mimetype": "text/x-python",
   "name": "python",
   "nbconvert_exporter": "python",
   "pygments_lexer": "ipython3",
   "version": "3.7.4"
  }
 },
 "nbformat": 4,
 "nbformat_minor": 4
}
